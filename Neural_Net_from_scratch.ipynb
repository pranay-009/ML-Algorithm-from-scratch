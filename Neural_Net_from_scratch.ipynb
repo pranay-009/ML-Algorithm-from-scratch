{
  "cells": [
    {
      "cell_type": "code",
      "execution_count": null,
      "metadata": {
        "id": "6f7u1O3sSPD4",
        "outputId": "14acac25-2cdb-486f-c4ce-fea842f5d8de",
        "colab": {
          "base_uri": "https://localhost:8080/"
        }
      },
      "outputs": [
        {
          "output_type": "stream",
          "name": "stdout",
          "text": [
            "Downloading data from https://storage.googleapis.com/tensorflow/tf-keras-datasets/mnist.npz\n",
            "11490434/11490434 [==============================] - 0s 0us/step\n"
          ]
        }
      ],
      "source": [
        "import numpy as np \n",
        "import matplotlib.pyplot as plt\n",
        "import os\n",
        "from keras.datasets import mnist\n",
        "import scipy\n",
        "import math\n",
        "from keras.utils import np_utils\n",
        "data = mnist.load_data()\n",
        "\n"
      ]
    },
    {
      "cell_type": "code",
      "execution_count": null,
      "metadata": {
        "colab": {
          "base_uri": "https://localhost:8080/"
        },
        "id": "2WQYM_e7SPD6",
        "outputId": "a723c0f4-8971-47b0-ff40-2ff628d1357b"
      },
      "outputs": [
        {
          "output_type": "stream",
          "name": "stdout",
          "text": [
            "(60000, 28, 28)\n"
          ]
        }
      ],
      "source": [
        "(X_train, Y_train), (X_test, y_test) = data\n",
        "print(X_train.shape)"
      ]
    },
    {
      "cell_type": "markdown",
      "metadata": {
        "id": "NlDN4lBISPD7"
      },
      "source": [
        "# **Creating Dense and Activation Layer**"
      ]
    },
    {
      "cell_type": "code",
      "execution_count": null,
      "metadata": {
        "id": "rtwdJ9K8SPD9"
      },
      "outputs": [],
      "source": [
        "\n",
        "\n",
        "class Dense(): # fully connected layer \n",
        "    def __init__(self, input_size, output_size):\n",
        "        self.weights = np.random.randn(output_size, input_size) #shape of weights is (number of neurons in present layer,number of input in that neuron)\n",
        "        self.bias = np.random.randn(output_size, 1)# shape of bias is number of neurons in present layer  as it act to shift the out put from the origin\n",
        "\n",
        "    def forward(self, input):\n",
        "        self.input = input\n",
        "        return np.dot(self.weights, self.input) + self.bias\n",
        "\n",
        "    def backward(self, output_gradient, learning_rate):\n",
        "        weights_gradient = np.dot(output_gradient, self.input.T)\n",
        "        input_gradient = np.dot(self.weights.T, output_gradient)\n",
        "        self.weights -= learning_rate * weights_gradient#w=w-lr*dw\n",
        "        self.bias -= learning_rate * output_gradient\n",
        "        return input_gradient\n",
        "\n",
        "#activation layer\n",
        "class Activation():\n",
        "    def __init__(self,activation,activation_d):\n",
        "        self.activation=activation\n",
        "        self.activation_d=activation_d\n",
        "    def forward(self,inputs):\n",
        "        self.inputs=inputs\n",
        "        return self.activation(self.inputs)\n",
        "    def backward(self,grad,learning):\n",
        "        return np.multiply(grad,self.activation_d(self.inputs))\n",
        "    \n",
        "    "
      ]
    },
    {
      "cell_type": "markdown",
      "source": [
        "# **Loss Function** "
      ],
      "metadata": {
        "id": "CAlGDqBkTsRZ"
      }
    },
    {
      "cell_type": "code",
      "execution_count": null,
      "metadata": {
        "colab": {
          "base_uri": "https://localhost:8080/",
          "height": 53
        },
        "id": "WzAM-LT1SPD-",
        "outputId": "39246be9-2385-4452-ed81-d1c29eea8e26"
      },
      "outputs": [
        {
          "output_type": "execute_result",
          "data": {
            "text/plain": [
              "'def cross_entropy(pred,y):\\n    samples=len(pred)\\n    pred=np.clip(pred,1e-3,1-1e-3)\\n    confidence=np.sum(pred*y,axis=1)\\n    loss=-np.log(confidence)\\n    return loss\\ndef cross_entropy_d(pred,y):\\n    pass'"
            ],
            "application/vnd.google.colaboratory.intrinsic+json": {
              "type": "string"
            }
          },
          "metadata": {},
          "execution_count": 5
        }
      ],
      "source": [
        "def mse(out,y):\n",
        "    return np.mean(np.power(y-out,2))\n",
        "\n",
        "def mse_d(out,y):\n",
        "    return 2*(y-out)/(np.size(y))\n",
        "\n",
        "def binary_cross_entropy(pred,y):\n",
        "    return np.mean(-y*np.log(pred)-(1-y)*np.log(1-pred))\n",
        "\n",
        "def binary_cross_entropy_d(pred,y):\n",
        "    samples=len(pred)\n",
        "    pred=np.clip(pred,1e-7,1-1e-7)\n",
        "    return ((1-y)/(1-pred)-y/pred)/np.size(y)\n",
        "\"\"\"def cross_entropy(pred,y):\n",
        "    samples=len(pred)\n",
        "    pred=np.clip(pred,1e-3,1-1e-3)\n",
        "    confidence=np.sum(pred*y,axis=1)\n",
        "    loss=-np.log(confidence)\n",
        "    return loss\n",
        "def cross_entropy_d(pred,y):\n",
        "    pass\"\"\""
      ]
    },
    {
      "cell_type": "markdown",
      "source": [
        "# **Activation Function**"
      ],
      "metadata": {
        "id": "er4mZwNQU5A0"
      }
    },
    {
      "cell_type": "code",
      "execution_count": null,
      "metadata": {
        "id": "0Adas7XGSPD-"
      },
      "outputs": [],
      "source": [
        "#ReLU Activaton function\n",
        "class ReLu(Activation):\n",
        "    def __init__(self):\n",
        "        def relu(Z):\n",
        "            return np.maximum(0,Z)\n",
        "        #derivative of ReLU\n",
        "        def d_relu(z):\n",
        "            return np.greater(z, 0.).astype(np.float64)\n",
        "        super().__init__(relu,d_relu)\n",
        "#Tanh\n",
        "class Tanh(Activation):\n",
        "    def __init__(self):\n",
        "        def tanh(x):\n",
        "            return np.tanh(x)\n",
        "        #derivative\n",
        "        def tanh_d(x):\n",
        "            return 1 - np.tanh(x) ** 2\n",
        "        super().__init__(tanh,tanh_d)\n",
        "\n",
        "            \n",
        "        \n",
        "class Softmax():\n",
        "    def forward(self, input):\n",
        "        tmp = np.exp(input)\n",
        "        self.output = tmp / np.sum(tmp)\n",
        "        return self.output\n",
        "    \n",
        "    def backward(self, output_gradient, learning_rate):\n",
        "        \n",
        "        n = np.size(self.output)\n",
        "        return np.dot((np.identity(n) - self.output.T) * self.output, output_gradient)\n",
        "    \n",
        "class Sigmoid(Activation):\n",
        "    def __init__(self):\n",
        "        def sigmoid(x):\n",
        "            return 1/(1+np.exp(-x))\n",
        "        def d_sigmoid(x):\n",
        "            return (np.exp(-x))/((np.exp(-x)+1)**2)\n",
        "        super().__init__(sigmoid,d_sigmoid)"
      ]
    },
    {
      "cell_type": "code",
      "execution_count": null,
      "metadata": {
        "id": "BfRAKAlQSPD_"
      },
      "outputs": [],
      "source": [
        "def preprocess_data(x, y, limit):\n",
        "    x = x.reshape(x.shape[0], 28 * 28, 1)\n",
        "    x = x.astype(\"float32\") / 255\n",
        "    y = np_utils.to_categorical(y)\n",
        "    y = y.reshape(y.shape[0], 10, 1)\n",
        "    return x[:limit], y[:limit]"
      ]
    },
    {
      "cell_type": "code",
      "execution_count": null,
      "metadata": {
        "id": "jFMNFu0vSPEA"
      },
      "outputs": [],
      "source": [
        "x_train, y_train = preprocess_data(X_train, Y_train, 2000)\n",
        "x_test, y_test = preprocess_data(X_test, y_test,200 )"
      ]
    },
    {
      "cell_type": "code",
      "source": [
        "y_test.shape"
      ],
      "metadata": {
        "colab": {
          "base_uri": "https://localhost:8080/"
        },
        "id": "6uW4RhoHtcDs",
        "outputId": "0378ddea-2659-4605-e45d-9f27c7f28a7e"
      },
      "execution_count": null,
      "outputs": [
        {
          "output_type": "execute_result",
          "data": {
            "text/plain": [
              "(200, 10, 1)"
            ]
          },
          "metadata": {},
          "execution_count": 12
        }
      ]
    },
    {
      "cell_type": "code",
      "source": [
        "y_test[0]"
      ],
      "metadata": {
        "colab": {
          "base_uri": "https://localhost:8080/"
        },
        "id": "Rk4Iq0FstcKV",
        "outputId": "c73759d0-4d38-4b76-fed3-dccb73afc2bd"
      },
      "execution_count": null,
      "outputs": [
        {
          "output_type": "execute_result",
          "data": {
            "text/plain": [
              "array([[0.],\n",
              "       [0.],\n",
              "       [0.],\n",
              "       [0.],\n",
              "       [0.],\n",
              "       [0.],\n",
              "       [0.],\n",
              "       [1.],\n",
              "       [0.],\n",
              "       [0.]], dtype=float32)"
            ]
          },
          "metadata": {},
          "execution_count": 13
        }
      ]
    },
    {
      "cell_type": "code",
      "execution_count": null,
      "metadata": {
        "id": "VyVc_xrASPEA"
      },
      "outputs": [],
      "source": [
        "def predict(model,out):\n",
        "    for layers in model:\n",
        "        out=layers.forward(out)\n",
        "    return out\n",
        "\n",
        "def train(model,loss, loss_prime, x_train, y_train, epochs = 1000, learning_rate = 0.01, verbose = True):\n",
        "    train_loss=[]\n",
        "    for e in range(epochs):\n",
        "        error = 0\n",
        "        for x, y in zip(x_train, y_train):\n",
        "            # forward\n",
        "            output = predict(model,x)\n",
        "            # error\n",
        "            error += loss(y, output)\n",
        "            # calculate the gradient\n",
        "            grad = loss_prime(y, output)\n",
        "            #backward pass\n",
        "            for layer in reversed(model):\n",
        "                grad = layer.backward(grad, learning_rate)\n",
        "        error /= len(x_train)\n",
        "        train_loss.append(error)\n",
        "        acc=accuracy(x_train,y_train)\n",
        "        if verbose:\n",
        "            print(f\"{e + 1}/{epochs}, error={error}, accuracy={acc}\")\n",
        "    \n",
        "    return train_loss\n",
        "    "
      ]
    },
    {
      "cell_type": "markdown",
      "source": [
        "# **Model Architecture**"
      ],
      "metadata": {
        "id": "AZfCDRGKVWBp"
      }
    },
    {
      "cell_type": "code",
      "execution_count": null,
      "metadata": {
        "colab": {
          "base_uri": "https://localhost:8080/"
        },
        "id": "CIu7qJjVSPEB",
        "outputId": "8431ca7b-ba32-4c42-d40c-1ebb4259e64e"
      },
      "outputs": [
        {
          "output_type": "stream",
          "name": "stdout",
          "text": [
            "1/300, error=0.13432462214179777, accuracy=0.1775\n",
            "2/300, error=0.10489566659123464, accuracy=0.2405\n",
            "3/300, error=0.09505382351177588, accuracy=0.2755\n",
            "4/300, error=0.08933118651613224, accuracy=0.3185\n",
            "5/300, error=0.08472577255083397, accuracy=0.275\n",
            "6/300, error=0.08262497775331713, accuracy=0.2865\n",
            "7/300, error=0.08006161469790622, accuracy=0.3445\n",
            "8/300, error=0.07879508528372775, accuracy=0.329\n",
            "9/300, error=0.07741587856014348, accuracy=0.3605\n",
            "10/300, error=0.07880785478256724, accuracy=0.3715\n",
            "11/300, error=0.07614687458069433, accuracy=0.4035\n",
            "12/300, error=0.07219822845657298, accuracy=0.4085\n",
            "13/300, error=0.07112335719758356, accuracy=0.414\n",
            "14/300, error=0.06842950051012014, accuracy=0.456\n",
            "15/300, error=0.06681916258705911, accuracy=0.504\n",
            "16/300, error=0.06926570675618728, accuracy=0.4645\n",
            "17/300, error=0.06784303080491688, accuracy=0.486\n",
            "18/300, error=0.06297742004146603, accuracy=0.5115\n",
            "19/300, error=0.062247748011578494, accuracy=0.5425\n",
            "20/300, error=0.06053943613678031, accuracy=0.515\n",
            "21/300, error=0.06189725225636136, accuracy=0.5765\n",
            "22/300, error=0.060783608582480324, accuracy=0.5575\n",
            "23/300, error=0.05943023720079168, accuracy=0.588\n",
            "24/300, error=0.05711756391754702, accuracy=0.5765\n",
            "25/300, error=0.0554953891537288, accuracy=0.6\n",
            "26/300, error=0.059012070496913316, accuracy=0.5555\n",
            "27/300, error=0.05816705430180124, accuracy=0.519\n",
            "28/300, error=0.06122351883451997, accuracy=0.555\n",
            "29/300, error=0.05764593028688043, accuracy=0.582\n",
            "30/300, error=0.05575284373737262, accuracy=0.5255\n",
            "31/300, error=0.059191688402330814, accuracy=0.591\n",
            "32/300, error=0.05717408596867497, accuracy=0.5485\n",
            "33/300, error=0.05975689632194826, accuracy=0.5585\n",
            "34/300, error=0.05793702322902495, accuracy=0.575\n",
            "35/300, error=0.0569208874577002, accuracy=0.6095\n",
            "36/300, error=0.05515801045577708, accuracy=0.605\n",
            "37/300, error=0.056995080806074905, accuracy=0.57\n",
            "38/300, error=0.0567894489893223, accuracy=0.604\n",
            "39/300, error=0.05329700145502667, accuracy=0.6105\n",
            "40/300, error=0.05563648593980181, accuracy=0.6125\n",
            "41/300, error=0.05262317732784337, accuracy=0.599\n",
            "42/300, error=0.05069649127068491, accuracy=0.6845\n",
            "43/300, error=0.04566788556032507, accuracy=0.6795\n",
            "44/300, error=0.04658501955663569, accuracy=0.692\n",
            "45/300, error=0.04986648050605703, accuracy=0.6475\n",
            "46/300, error=0.05115904257616028, accuracy=0.6605\n",
            "47/300, error=0.048544105631429926, accuracy=0.641\n",
            "48/300, error=0.04889000344879478, accuracy=0.6355\n",
            "49/300, error=0.050058116442160815, accuracy=0.656\n",
            "50/300, error=0.048761133808656015, accuracy=0.643\n",
            "51/300, error=0.04770476300200845, accuracy=0.6735\n",
            "52/300, error=0.04834850384413501, accuracy=0.656\n",
            "53/300, error=0.047989696642096034, accuracy=0.6725\n",
            "54/300, error=0.047136010189826896, accuracy=0.683\n",
            "55/300, error=0.04718453345856501, accuracy=0.653\n",
            "56/300, error=0.04930170603209848, accuracy=0.6575\n",
            "57/300, error=0.04823560815553672, accuracy=0.6825\n",
            "58/300, error=0.047950124974193355, accuracy=0.684\n",
            "59/300, error=0.04453152575624745, accuracy=0.7155\n",
            "60/300, error=0.043146634302417095, accuracy=0.7065\n",
            "61/300, error=0.04509493482008045, accuracy=0.699\n",
            "62/300, error=0.04407018322703734, accuracy=0.676\n",
            "63/300, error=0.042266077894630764, accuracy=0.7045\n",
            "64/300, error=0.04442619778772782, accuracy=0.6935\n",
            "65/300, error=0.046159482993639554, accuracy=0.6905\n",
            "66/300, error=0.04304557725462211, accuracy=0.6925\n",
            "67/300, error=0.0474047768361988, accuracy=0.6815\n",
            "68/300, error=0.041609491610485265, accuracy=0.7175\n",
            "69/300, error=0.038905255235907994, accuracy=0.7365\n",
            "70/300, error=0.03984884909509774, accuracy=0.7125\n",
            "71/300, error=0.04086988316432886, accuracy=0.717\n",
            "72/300, error=0.039617990410006305, accuracy=0.6985\n",
            "73/300, error=0.04019763366546419, accuracy=0.7125\n",
            "74/300, error=0.04030874528214552, accuracy=0.721\n",
            "75/300, error=0.03904515064974806, accuracy=0.7165\n",
            "76/300, error=0.040563399115675546, accuracy=0.7325\n",
            "77/300, error=0.03989133396616451, accuracy=0.696\n",
            "78/300, error=0.04236181122523444, accuracy=0.721\n",
            "79/300, error=0.04028410202937639, accuracy=0.6965\n",
            "80/300, error=0.04348145616973432, accuracy=0.677\n",
            "81/300, error=0.044308634017917056, accuracy=0.711\n",
            "82/300, error=0.04156816554465049, accuracy=0.7315\n",
            "83/300, error=0.039012145185467695, accuracy=0.7045\n",
            "84/300, error=0.03906156889240188, accuracy=0.725\n",
            "85/300, error=0.03919840494844045, accuracy=0.727\n",
            "86/300, error=0.03939715865561521, accuracy=0.7325\n",
            "87/300, error=0.03772846303390255, accuracy=0.7265\n",
            "88/300, error=0.039047992460533566, accuracy=0.7115\n",
            "89/300, error=0.039439992406871814, accuracy=0.7125\n",
            "90/300, error=0.03643892487764266, accuracy=0.7315\n",
            "91/300, error=0.04007877917156962, accuracy=0.71\n",
            "92/300, error=0.040920990997820136, accuracy=0.699\n",
            "93/300, error=0.04100238842782014, accuracy=0.69\n",
            "94/300, error=0.04040773691194918, accuracy=0.717\n",
            "95/300, error=0.03829925019669627, accuracy=0.71\n",
            "96/300, error=0.03797026155075189, accuracy=0.7255\n",
            "97/300, error=0.038619359355164556, accuracy=0.7125\n",
            "98/300, error=0.037228995662149454, accuracy=0.721\n",
            "99/300, error=0.03740309866994799, accuracy=0.728\n",
            "100/300, error=0.03776307161604774, accuracy=0.7445\n",
            "101/300, error=0.038276295173455335, accuracy=0.724\n",
            "102/300, error=0.03940008401623478, accuracy=0.718\n",
            "103/300, error=0.04030911340967568, accuracy=0.7205\n",
            "104/300, error=0.038553779709200764, accuracy=0.715\n",
            "105/300, error=0.03990112877217121, accuracy=0.739\n",
            "106/300, error=0.03723284246532261, accuracy=0.749\n",
            "107/300, error=0.03578484434253216, accuracy=0.7505\n",
            "108/300, error=0.03747754220882278, accuracy=0.7205\n",
            "109/300, error=0.03742343940102424, accuracy=0.7505\n",
            "110/300, error=0.036382404552573876, accuracy=0.7495\n",
            "111/300, error=0.03597278951755452, accuracy=0.746\n",
            "112/300, error=0.03605634643898607, accuracy=0.754\n",
            "113/300, error=0.03502020089684932, accuracy=0.758\n",
            "114/300, error=0.034742480991705287, accuracy=0.7345\n",
            "115/300, error=0.03591190807476311, accuracy=0.7505\n",
            "116/300, error=0.03681041025083279, accuracy=0.757\n",
            "117/300, error=0.03531518674864523, accuracy=0.718\n",
            "118/300, error=0.0373735594027288, accuracy=0.736\n",
            "119/300, error=0.03732559289380238, accuracy=0.728\n",
            "120/300, error=0.038464048187004614, accuracy=0.6995\n",
            "121/300, error=0.03861990623721219, accuracy=0.745\n",
            "122/300, error=0.03650636962907228, accuracy=0.7485\n",
            "123/300, error=0.03613662700123719, accuracy=0.7455\n",
            "124/300, error=0.03477222221132482, accuracy=0.762\n",
            "125/300, error=0.033888258950281164, accuracy=0.7445\n",
            "126/300, error=0.034552662905007185, accuracy=0.765\n",
            "127/300, error=0.03201961210635161, accuracy=0.7765\n",
            "128/300, error=0.03288113536501181, accuracy=0.7605\n",
            "129/300, error=0.03343903317748282, accuracy=0.7545\n",
            "130/300, error=0.034111763236793026, accuracy=0.7565\n",
            "131/300, error=0.034217934370834396, accuracy=0.7435\n",
            "132/300, error=0.03311610334433324, accuracy=0.7595\n",
            "133/300, error=0.03275076857185219, accuracy=0.7625\n",
            "134/300, error=0.03389764926537437, accuracy=0.747\n",
            "135/300, error=0.035308767178045125, accuracy=0.713\n",
            "136/300, error=0.038412039450656375, accuracy=0.72\n",
            "137/300, error=0.036668644331582394, accuracy=0.76\n",
            "138/300, error=0.0329179508402685, accuracy=0.764\n",
            "139/300, error=0.032835596018106185, accuracy=0.773\n",
            "140/300, error=0.03126080769805494, accuracy=0.7515\n",
            "141/300, error=0.03322003022345382, accuracy=0.777\n",
            "142/300, error=0.03211478164647889, accuracy=0.787\n",
            "143/300, error=0.03075400460287161, accuracy=0.7835\n",
            "144/300, error=0.03100969853952002, accuracy=0.774\n",
            "145/300, error=0.031261243704611745, accuracy=0.781\n",
            "146/300, error=0.030152437436018503, accuracy=0.788\n",
            "147/300, error=0.02904608929308341, accuracy=0.7935\n",
            "148/300, error=0.028330222942011457, accuracy=0.8\n",
            "149/300, error=0.028751004905931053, accuracy=0.7945\n",
            "150/300, error=0.029277129119014454, accuracy=0.7985\n",
            "151/300, error=0.028982476073939348, accuracy=0.795\n",
            "152/300, error=0.02948076190177697, accuracy=0.788\n",
            "153/300, error=0.030012834626937778, accuracy=0.7685\n",
            "154/300, error=0.030878390657493097, accuracy=0.7845\n",
            "155/300, error=0.03276279779783511, accuracy=0.7775\n",
            "156/300, error=0.03236370626828008, accuracy=0.77\n",
            "157/300, error=0.03233981019373198, accuracy=0.7725\n",
            "158/300, error=0.03147880335285551, accuracy=0.7775\n",
            "159/300, error=0.03079310111930417, accuracy=0.7765\n",
            "160/300, error=0.03135273411876145, accuracy=0.783\n",
            "161/300, error=0.03054435207569828, accuracy=0.7865\n",
            "162/300, error=0.03008944877617025, accuracy=0.7815\n",
            "163/300, error=0.029326862845224656, accuracy=0.794\n",
            "164/300, error=0.02843084476992547, accuracy=0.795\n",
            "165/300, error=0.02816271966002598, accuracy=0.802\n",
            "166/300, error=0.027864874709001917, accuracy=0.802\n",
            "167/300, error=0.026922970948012166, accuracy=0.805\n",
            "168/300, error=0.027023662262359947, accuracy=0.8025\n",
            "169/300, error=0.02756864129614169, accuracy=0.792\n",
            "170/300, error=0.029173205342733866, accuracy=0.7765\n",
            "171/300, error=0.031061096388109347, accuracy=0.772\n",
            "172/300, error=0.03038830673562749, accuracy=0.7865\n",
            "173/300, error=0.02886201019076382, accuracy=0.8015\n",
            "174/300, error=0.0292969243844846, accuracy=0.787\n",
            "175/300, error=0.029509598443393417, accuracy=0.7855\n",
            "176/300, error=0.029254695676599062, accuracy=0.7945\n",
            "177/300, error=0.028525701507819756, accuracy=0.798\n",
            "178/300, error=0.027916330241538504, accuracy=0.803\n",
            "179/300, error=0.028122683452377898, accuracy=0.804\n",
            "180/300, error=0.030742107098937092, accuracy=0.786\n",
            "181/300, error=0.029273674467088846, accuracy=0.784\n",
            "182/300, error=0.03070745019377892, accuracy=0.7765\n",
            "183/300, error=0.02886640926069647, accuracy=0.794\n",
            "184/300, error=0.030712177112212163, accuracy=0.791\n",
            "185/300, error=0.02820484461470531, accuracy=0.797\n",
            "186/300, error=0.027755236148511126, accuracy=0.8035\n",
            "187/300, error=0.026255089824109342, accuracy=0.807\n",
            "188/300, error=0.028300104754366374, accuracy=0.796\n",
            "189/300, error=0.027397022301775837, accuracy=0.802\n",
            "190/300, error=0.026734287199529125, accuracy=0.8025\n",
            "191/300, error=0.025932182991854263, accuracy=0.8065\n",
            "192/300, error=0.027005333672337723, accuracy=0.8065\n",
            "193/300, error=0.02604614331077051, accuracy=0.8165\n",
            "194/300, error=0.025409986266594343, accuracy=0.8125\n",
            "195/300, error=0.026440326628789777, accuracy=0.8095\n",
            "196/300, error=0.026719831632329702, accuracy=0.8055\n",
            "197/300, error=0.026163241445187165, accuracy=0.8095\n",
            "198/300, error=0.026281703630419036, accuracy=0.808\n",
            "199/300, error=0.026372224856057534, accuracy=0.8025\n",
            "200/300, error=0.027350236735260054, accuracy=0.8005\n",
            "201/300, error=0.026759495808174955, accuracy=0.813\n",
            "202/300, error=0.025978575734536578, accuracy=0.8105\n",
            "203/300, error=0.027338856852773326, accuracy=0.804\n",
            "204/300, error=0.026296171530702808, accuracy=0.8125\n",
            "205/300, error=0.026136826233034604, accuracy=0.8065\n",
            "206/300, error=0.025941715737451587, accuracy=0.813\n",
            "207/300, error=0.026192772320291845, accuracy=0.8145\n",
            "208/300, error=0.026004629741855325, accuracy=0.8155\n",
            "209/300, error=0.02686381129850731, accuracy=0.8135\n",
            "210/300, error=0.026979447163524344, accuracy=0.8125\n",
            "211/300, error=0.02635549355130682, accuracy=0.808\n",
            "212/300, error=0.026257702003215037, accuracy=0.803\n",
            "213/300, error=0.026718697563602064, accuracy=0.819\n",
            "214/300, error=0.02557358718523715, accuracy=0.8205\n",
            "215/300, error=0.027099269617551578, accuracy=0.796\n",
            "216/300, error=0.02913834929653159, accuracy=0.7905\n",
            "217/300, error=0.02872668038002216, accuracy=0.803\n",
            "218/300, error=0.028294954707197846, accuracy=0.7925\n",
            "219/300, error=0.027568230425269256, accuracy=0.815\n",
            "220/300, error=0.025758647512585258, accuracy=0.821\n",
            "221/300, error=0.025658844503175984, accuracy=0.8205\n",
            "222/300, error=0.026094155663211365, accuracy=0.814\n",
            "223/300, error=0.026066157473654292, accuracy=0.8115\n",
            "224/300, error=0.025236839470622788, accuracy=0.818\n",
            "225/300, error=0.02516492386860837, accuracy=0.8205\n",
            "226/300, error=0.025871684531861675, accuracy=0.817\n",
            "227/300, error=0.025302862028119617, accuracy=0.818\n",
            "228/300, error=0.02495867394508931, accuracy=0.826\n",
            "229/300, error=0.025796597078239517, accuracy=0.817\n",
            "230/300, error=0.02606697770275335, accuracy=0.808\n",
            "231/300, error=0.0250736932337278, accuracy=0.823\n",
            "232/300, error=0.02734839022514386, accuracy=0.8105\n",
            "233/300, error=0.026468314003692702, accuracy=0.812\n",
            "234/300, error=0.026123895699838296, accuracy=0.814\n",
            "235/300, error=0.0280162561385574, accuracy=0.801\n",
            "236/300, error=0.028329114778382278, accuracy=0.8055\n",
            "237/300, error=0.02674557016514859, accuracy=0.8055\n",
            "238/300, error=0.026376108196219474, accuracy=0.813\n",
            "239/300, error=0.02822411432809893, accuracy=0.8085\n",
            "240/300, error=0.025616294248408382, accuracy=0.8185\n",
            "241/300, error=0.02536570001471317, accuracy=0.814\n",
            "242/300, error=0.0267801977533021, accuracy=0.807\n",
            "243/300, error=0.027244838662411855, accuracy=0.815\n",
            "244/300, error=0.026781671193316627, accuracy=0.804\n",
            "245/300, error=0.02793093998473209, accuracy=0.8065\n",
            "246/300, error=0.027254572814912073, accuracy=0.783\n",
            "247/300, error=0.029321001595221427, accuracy=0.7605\n",
            "248/300, error=0.033942728027499036, accuracy=0.7785\n",
            "249/300, error=0.031499475804291535, accuracy=0.7795\n",
            "250/300, error=0.03054585010730735, accuracy=0.788\n",
            "251/300, error=0.02967248752524833, accuracy=0.795\n",
            "252/300, error=0.02952811721107306, accuracy=0.7935\n",
            "253/300, error=0.029181078291321043, accuracy=0.8015\n",
            "254/300, error=0.028031438111367574, accuracy=0.8035\n",
            "255/300, error=0.02791708793738236, accuracy=0.799\n",
            "256/300, error=0.02871529894656943, accuracy=0.8075\n",
            "257/300, error=0.026900660822222297, accuracy=0.8035\n",
            "258/300, error=0.026089883819162538, accuracy=0.818\n",
            "259/300, error=0.025659289083196056, accuracy=0.816\n",
            "260/300, error=0.025010430073317207, accuracy=0.8095\n",
            "261/300, error=0.025156464930380935, accuracy=0.8115\n",
            "262/300, error=0.02515854782407057, accuracy=0.8215\n",
            "263/300, error=0.02597856959571747, accuracy=0.818\n",
            "264/300, error=0.024503486262175776, accuracy=0.821\n",
            "265/300, error=0.02495507701477584, accuracy=0.821\n",
            "266/300, error=0.025933841058444127, accuracy=0.819\n",
            "267/300, error=0.025038957747707744, accuracy=0.8175\n",
            "268/300, error=0.026096695914971883, accuracy=0.8075\n",
            "269/300, error=0.0248515589657673, accuracy=0.82\n",
            "270/300, error=0.025726362817347824, accuracy=0.8105\n",
            "271/300, error=0.025820400649448256, accuracy=0.8125\n",
            "272/300, error=0.026149174531863745, accuracy=0.815\n",
            "273/300, error=0.02569518983305826, accuracy=0.82\n",
            "274/300, error=0.025570124767728852, accuracy=0.8015\n",
            "275/300, error=0.02762893449561895, accuracy=0.81\n",
            "276/300, error=0.026418501208653883, accuracy=0.809\n",
            "277/300, error=0.027718217054165443, accuracy=0.792\n",
            "278/300, error=0.027942607669709157, accuracy=0.8035\n",
            "279/300, error=0.02712339805963224, accuracy=0.808\n",
            "280/300, error=0.026735057852140396, accuracy=0.808\n",
            "281/300, error=0.02569288388584749, accuracy=0.824\n",
            "282/300, error=0.025308648853193273, accuracy=0.8145\n",
            "283/300, error=0.025287337925117486, accuracy=0.7995\n",
            "284/300, error=0.028391296276869853, accuracy=0.802\n",
            "285/300, error=0.026864695768647712, accuracy=0.8065\n",
            "286/300, error=0.026032540891423216, accuracy=0.811\n",
            "287/300, error=0.025174622583959957, accuracy=0.811\n",
            "288/300, error=0.026034749982314243, accuracy=0.81\n",
            "289/300, error=0.025750597245770446, accuracy=0.8185\n",
            "290/300, error=0.025984224449664285, accuracy=0.814\n",
            "291/300, error=0.024529659216420467, accuracy=0.8165\n",
            "292/300, error=0.026029065716924128, accuracy=0.819\n",
            "293/300, error=0.026410370087319925, accuracy=0.809\n",
            "294/300, error=0.026308168586414844, accuracy=0.811\n",
            "295/300, error=0.02565870207182478, accuracy=0.816\n",
            "296/300, error=0.025564778329233345, accuracy=0.802\n",
            "297/300, error=0.02610232298134479, accuracy=0.806\n",
            "298/300, error=0.025417112092070652, accuracy=0.8215\n",
            "299/300, error=0.024954311862058622, accuracy=0.8175\n",
            "300/300, error=0.025063338890592465, accuracy=0.802\n"
          ]
        }
      ],
      "source": [
        "\n",
        "network = [\n",
        "    Dense(28 * 28, 128),\n",
        "    ReLu(),\n",
        "    Dense(128,64),\n",
        "    Tanh(),\n",
        "    Dense(64,32),\n",
        "    Tanh(),\n",
        "    Dense(32, 10),\n",
        "    Softmax(),\n",
        "]\n",
        "\n",
        "# train\n",
        "\n",
        "hist=train(network,mse, mse_d, x_train, y_train, epochs=300, learning_rate=0.1)"
      ]
    },
    {
      "cell_type": "code",
      "execution_count": null,
      "metadata": {
        "id": "NqLWktngSPEB"
      },
      "outputs": [],
      "source": [
        "def accuracy(x,y):\n",
        "    c=0\n",
        "    for i in range(len(x)):\n",
        "        if np.argmax(predict(network,x[i]),axis=0)==np.argmax(y[i],axis=0):\n",
        "            c=c+1\n",
        "    return c/len(x)"
      ]
    },
    {
      "cell_type": "code",
      "execution_count": null,
      "metadata": {
        "colab": {
          "base_uri": "https://localhost:8080/"
        },
        "id": "yr9OvsivSPEC",
        "outputId": "bfaec556-c22b-4c8b-ccdf-e1f25d208b4b"
      },
      "outputs": [
        {
          "output_type": "stream",
          "name": "stdout",
          "text": [
            "training accuracy after 300 epochs: 0.802\n",
            "test accuracy after 300 epochs: 0.7\n"
          ]
        }
      ],
      "source": [
        "print(\"training accuracy after 300 epochs:\",accuracy(x_train,y_train))\n",
        "print(\"test accuracy after 300 epochs:\",accuracy(x_test,y_test))\n"
      ]
    },
    {
      "cell_type": "code",
      "execution_count": null,
      "metadata": {
        "colab": {
          "base_uri": "https://localhost:8080/"
        },
        "id": "7QJf_-NtSPEC",
        "outputId": "c4a8092f-96d0-43fe-9671-219e6470b98a"
      },
      "outputs": [
        {
          "output_type": "execute_result",
          "data": {
            "text/plain": [
              "(array([0, 1, 2, 3, 4, 5, 6, 7, 8, 9]),\n",
              " array([191, 220, 198, 191, 214, 180, 200, 224, 172, 210]))"
            ]
          },
          "metadata": {},
          "execution_count": 57
        }
      ],
      "source": [
        "np.unique(np.argmax(y_train,axis=1),return_counts=True)"
      ]
    },
    {
      "cell_type": "code",
      "execution_count": null,
      "metadata": {
        "colab": {
          "base_uri": "https://localhost:8080/"
        },
        "id": "6WL8pzmpSPEC",
        "outputId": "e582f357-e743-4e84-a126-e078d3a66472"
      },
      "outputs": [
        {
          "output_type": "execute_result",
          "data": {
            "text/plain": [
              "(array([0, 1, 2, 3, 4, 5, 6, 7, 8, 9]),\n",
              " array([17, 28, 16, 16, 28, 20, 20, 24, 10, 21]))"
            ]
          },
          "metadata": {},
          "execution_count": 58
        }
      ],
      "source": [
        "np.unique(np.argmax(y_test,axis=1),return_counts=True)"
      ]
    },
    {
      "cell_type": "code",
      "execution_count": null,
      "metadata": {
        "id": "oZyu6qAASPEC"
      },
      "outputs": [],
      "source": [
        "def plot_images(data):\n",
        "    plt.figure(figsize=(6,6))\n",
        "    plt.imshow(data,cmap=\"binary\")\n",
        "\n",
        "def show_predictions(data,model):\n",
        "    plot_images(data)\n",
        "    x=data.reshape(28*28,1)\n",
        "    x=x.astype(\"float32\")/255\n",
        "    out=predict(model,x)\n",
        "    #print(out)\n",
        "    print(\"predicted output:\",np.argmax(out,axis=0))\n",
        "\n"
      ]
    },
    {
      "cell_type": "code",
      "source": [
        "show_predictions(X_train[58],network)"
      ],
      "metadata": {
        "id": "fWwnbR6ffSeT",
        "colab": {
          "base_uri": "https://localhost:8080/",
          "height": 391
        },
        "outputId": "ca263cfd-d4e8-4942-8fba-764d1b244cc8"
      },
      "execution_count": null,
      "outputs": [
        {
          "output_type": "stream",
          "name": "stdout",
          "text": [
            "predicted output: [4]\n"
          ]
        },
        {
          "output_type": "display_data",
          "data": {
            "text/plain": [
              "<Figure size 432x432 with 1 Axes>"
            ],
            "image/png": "[encoded data removed]"
          },
          "metadata": {
            "needs_background": "light"
          }
        }
      ]
    },
    {
      "cell_type": "code",
      "source": [
        "plt.plot(list(range(300)),hist)"
      ],
      "metadata": {
        "colab": {
          "base_uri": "https://localhost:8080/",
          "height": 282
        },
        "id": "lHAjnXbo4mHg",
        "outputId": "eb3730d4-bb69-4fc3-e4b1-71affc8602ea"
      },
      "execution_count": null,
      "outputs": [
        {
          "output_type": "execute_result",
          "data": {
            "text/plain": [
              "[<matplotlib.lines.Line2D at 0x7f17fdd86950>]"
            ]
          },
          "metadata": {},
          "execution_count": 71
        },
        {
          "output_type": "display_data",
          "data": {
            "text/plain": [
              "<Figure size 432x288 with 1 Axes>"
            ],
            "image/png": "[encoded data removed]"
          },
          "metadata": {
            "needs_background": "light"
          }
        }
      ]
    }
  ],
  "metadata": {
    "kernelspec": {
      "display_name": "Python 3",
      "language": "python",
      "name": "python3"
    },
    "language_info": {
      "codemirror_mode": {
        "name": "ipython",
        "version": 3
      },
      "file_extension": ".py",
      "mimetype": "text/x-python",
      "name": "python",
      "nbconvert_exporter": "python",
      "pygments_lexer": "ipython3",
      "version": "3.8.5"
    },
    "colab": {
      "provenance": []
    },
    "accelerator": "GPU",
    "gpuClass": "standard"
  },
  "nbformat": 4,
  "nbformat_minor": 0
}